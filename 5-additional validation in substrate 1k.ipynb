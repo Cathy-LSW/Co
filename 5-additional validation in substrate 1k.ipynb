{
 "cells": [
  {
   "cell_type": "markdown",
   "id": "4618b609",
   "metadata": {},
   "source": [
    "# Load dependencies"
   ]
  },
  {
   "cell_type": "code",
   "execution_count": 2,
   "id": "89280234",
   "metadata": {
    "ExecuteTime": {
     "end_time": "2023-03-10T07:40:13.340043Z",
     "start_time": "2023-03-10T07:40:12.482864Z"
    }
   },
   "outputs": [],
   "source": [
    "import glob\n",
    "import pandas as pd\n",
    "import numpy as np\n",
    "from rdkit import Chem\n",
    "from rdkit.Chem import AllChem\n",
    "from sklearn.svm import LinearSVR\n",
    "from sklearn.metrics import mean_absolute_error\n",
    "from scipy.stats import pearsonr\n",
    "import matplotlib.pyplot as plt\n",
    "from morfeus import Sterimol,BuriedVolume,read_xyz\n",
    "from script.read_FOMO import read_FOMO\n",
    "from script.charge import read_charge\n",
    "from script.bond import gen_alk_bond_length_map,gen_sub_bond_length_map,gen_acid_bond_length_map\n",
    "from script.wbo import gen_bond_wbo_map\n",
    "from script.utils import maxminscale"
   ]
  },
  {
   "cell_type": "markdown",
   "id": "3ff5a613",
   "metadata": {},
   "source": [
    "# Generate descriptor"
   ]
  },
  {
   "cell_type": "code",
   "execution_count": 18,
   "id": "375cd289",
   "metadata": {
    "ExecuteTime": {
     "end_time": "2023-02-22T14:49:03.061985Z",
     "start_time": "2023-02-22T14:48:48.513417Z"
    }
   },
   "outputs": [],
   "source": [
    "data=pd.read_csv('./data2/data.csv')\n",
    "sub_smi=data['Substrate SMILES'].to_list()\n",
    "alk_smi=data['Alkene SMILES'].to_list()\n",
    "acid_smi=data['Acid SMILES'].to_list()\n",
    "sub_smi_set=set(sub_smi)\n",
    "alk_smi_set=set(alk_smi)\n",
    "acid_smi_set=set(acid_smi)\n",
    "temp=np.array(data[ 'Temp /C'].to_list())[:69]+273.15\n",
    "ee= np.array(data['ee'].to_list())/100\n",
    "ee= np.array(ee[:69])\n",
    "ddg=np.array(-8.314*temp*np.log((1-ee)/(1+ee))/4184)\n",
    "tem=maxminscale(np.array(data['Temp /C'].to_list())).reshape(-1,1)\n",
    "\n",
    "for index,i in enumerate(acid_smi[:69]):\n",
    "    for j in acid_smi[69:]:\n",
    "        if Chem.MolToSmiles(Chem.MolFromSmiles(i))==Chem.MolToSmiles(Chem.MolFromSmiles(j)) and i!=j:\n",
    "            acid_smi[index]=j\n",
    "acid_smi_set=set(acid_smi)\n",
    "acid_index=list(range(59,69))"
   ]
  },
  {
   "cell_type": "code",
   "execution_count": 19,
   "id": "21c9e3b8",
   "metadata": {
    "ExecuteTime": {
     "end_time": "2023-02-22T14:49:04.535350Z",
     "start_time": "2023-02-22T14:49:04.431710Z"
    }
   },
   "outputs": [],
   "source": [
    "xyz_fn_map = pd.read_csv('./data/smiles_file_dict.csv')\n",
    "match_idx = pd.read_csv('./data/match_index.csv')\n",
    "smiles_fn_map = {str(fn):smi for fn,smi in zip(xyz_fn_map['file_name'].to_list(),xyz_fn_map['SMILES'].to_list())}\n",
    "smiles_match_idx_map = {smi:list(map(eval,str(idx).split('-'))) for smi,idx in zip(match_idx['SMILES'].to_list(),match_idx['match_index'].to_list())}\n",
    "smiles_match_idx_map['CC(C=CC=N1)=C1N2C=CC3=C2C=CC=C3']=list(AllChem.AddHs(Chem.MolFromSmiles('CC(C=CC=N1)=C1N2C=CC3=C2C=CC=C3')).GetSubstructMatch(Chem.MolFromSmiles('[H]C1=CC2=C(N1)C=CC=C2')))\n",
    "smiles_fn_map['add_sub_0']='CC(C=CC=N1)=C1N2C=CC3=C2C=CC=C3'\n",
    "fn_smiles_map = {smiles_fn_map[key]:key for key in smiles_fn_map}\n",
    "smiles_ele_pos_map={}\n",
    "for f in glob.glob('./data/xyz_data/*'):\n",
    "    smiles_ele_pos_map[smiles_fn_map[f.split('/')[-1]]]=read_xyz(f+'/xtbopt.xyz')"
   ]
  },
  {
   "cell_type": "code",
   "execution_count": 20,
   "id": "e15182ca",
   "metadata": {
    "ExecuteTime": {
     "end_time": "2023-02-22T14:49:06.624776Z",
     "start_time": "2023-02-22T14:49:05.907467Z"
    }
   },
   "outputs": [
    {
     "name": "stdout",
     "output_type": "stream",
     "text": [
      "sub_7 6 9\n",
      "sub_1 10 11\n",
      "sub_3 13 14\n",
      "add_sub_0 8 7\n",
      "sub_11 7 10\n",
      "sub_6 8 7\n",
      "sub_8 6 9\n",
      "sub_0 5 6\n",
      "sub_2 5 6\n",
      "sub_10 6 9\n",
      "sub_5 5 6\n",
      "sub_4 6 9\n",
      "sub_9 5 4\n"
     ]
    }
   ],
   "source": [
    "Desc_map = {}\n",
    "Desc_map['sub'] = {}\n",
    "for smi in sub_smi_set:\n",
    "    match_index = smiles_match_idx_map[smi]\n",
    "    element,positions = smiles_ele_pos_map[smi]\n",
    "    tmp_mol = AllChem.AddHs(Chem.MolFromSmiles(smi))\n",
    "    atom = tmp_mol.GetAtomWithIdx(match_index[4])\n",
    "    index2=list(set([x.GetIdx() for x in atom.GetNeighbors()])-set(list([match_index[0]])+list([match_index[3]])))\n",
    "    sterimol = Sterimol(element,positions,match_index[4]+1,index2[0]+1)\n",
    "    bv1 = BuriedVolume(element,positions,match_index[4]+1)\n",
    "    B1 = sterimol.B_1_value\n",
    "    B5 = sterimol.B_5_value\n",
    "    L = sterimol.L_value\n",
    "    BV = bv1.fraction_buried_volume\n",
    "    Desc_map['sub'][smi] = np.array([B1,B5,L,BV])\n",
    "    print(fn_smiles_map[smi],match_index[4]+1,index2[0]+1)"
   ]
  },
  {
   "cell_type": "code",
   "execution_count": 21,
   "id": "b1b129b8",
   "metadata": {
    "ExecuteTime": {
     "end_time": "2023-02-22T14:51:51.517749Z",
     "start_time": "2023-02-22T14:49:08.003527Z"
    },
    "scrolled": true
   },
   "outputs": [
    {
     "name": "stdout",
     "output_type": "stream",
     "text": [
      "acid_219 24 25 23\n",
      "acid_231 20 21 19\n",
      "acid_170 16 17 15\n",
      "acid_80 20 21 19\n",
      "acid_327 24 25 23\n",
      "acid_265 24 25 23\n",
      "acid_248 16 17 15\n",
      "acid_55 24 25 23\n",
      "acid_252 24 25 23\n",
      "acid_63 24 25 23\n",
      "acid_6 16 17 15\n",
      "acid_446 24 25 23\n",
      "acid_379 24 25 23\n",
      "acid_138 20 21 19\n",
      "acid_123 24 25 23\n",
      "acid_121 24 25 23\n",
      "acid_215 20 21 19\n",
      "acid_245 24 25 23\n",
      "acid_247 24 25 23\n",
      "acid_361 16 17 15\n",
      "acid_413 16 17 15\n",
      "acid_302 16 17 15\n",
      "acid_284 24 25 23\n",
      "acid_187 24 25 23\n",
      "acid_346 24 25 23\n",
      "acid_274 16 17 15\n",
      "acid_177 24 25 23\n",
      "acid_256 24 25 23\n",
      "acid_476 16 17 15\n",
      "acid_120 24 25 23\n",
      "acid_408 16 17 15\n",
      "acid_156 24 25 23\n",
      "acid_253 24 25 23\n",
      "acid_13 24 25 23\n",
      "acid_10 16 17 15\n",
      "acid_353 20 21 19\n",
      "acid_197 24 25 23\n",
      "acid_364 24 25 23\n",
      "acid_357 20 21 19\n",
      "acid_133 16 17 15\n",
      "acid_242 24 25 23\n",
      "acid_220 24 25 23\n",
      "acid_205 16 17 15\n",
      "acid_126 16 17 15\n",
      "acid_311 16 17 15\n",
      "acid_396 24 25 23\n",
      "acid_430 20 21 19\n",
      "acid_298 24 25 23\n",
      "acid_84 20 21 19\n",
      "acid_155 20 21 19\n",
      "acid_347 16 17 15\n",
      "acid_473 24 25 23\n",
      "acid_255 20 21 19\n",
      "acid_91 24 25 23\n",
      "acid_53 24 25 23\n",
      "acid_225 24 25 23\n",
      "acid_232 16 17 15\n",
      "acid_46 24 25 23\n",
      "acid_285 20 21 19\n",
      "acid_148 24 25 23\n",
      "acid_78 20 21 19\n",
      "acid_326 24 25 23\n",
      "acid_397 20 21 19\n",
      "acid_342 16 17 15\n",
      "acid_345 20 21 19\n",
      "acid_124 16 17 15\n",
      "acid_278 16 17 15\n",
      "acid_135 20 21 19\n",
      "acid_3 24 25 23\n",
      "acid_188 16 17 15\n",
      "acid_233 16 17 15\n",
      "acid_136 24 25 23\n",
      "acid_7 16 17 15\n",
      "acid_96 24 25 23\n",
      "acid_471 20 21 19\n",
      "acid_382 24 25 23\n",
      "acid_332 20 21 19\n",
      "acid_4 24 25 23\n",
      "acid_182 20 21 19\n",
      "acid_428 24 25 23\n",
      "acid_462 24 25 23\n",
      "acid_40 24 25 23\n",
      "acid_328 16 17 15\n",
      "acid_422 20 21 19\n",
      "acid_141 16 17 15\n",
      "acid_412 20 21 19\n",
      "acid_262 16 17 15\n",
      "acid_344 20 21 19\n",
      "acid_416 24 25 23\n",
      "acid_74 24 25 23\n",
      "acid_143 16 17 15\n",
      "acid_129 24 25 23\n",
      "acid_340 20 21 19\n",
      "acid_263 24 25 23\n",
      "acid_208 20 21 19\n",
      "acid_315 24 25 23\n",
      "acid_444 20 21 19\n",
      "acid_399 24 25 23\n",
      "acid_57 24 25 23\n",
      "acid_105 24 25 23\n",
      "acid_417 16 17 15\n",
      "acid_12 24 25 23\n",
      "acid_369 16 17 15\n",
      "acid_439 24 25 23\n",
      "acid_341 24 25 23\n",
      "acid_244 20 21 19\n",
      "acid_196 16 17 15\n",
      "acid_309 24 25 23\n",
      "acid_192 16 17 15\n",
      "acid_211 24 25 23\n",
      "acid_367 16 17 15\n",
      "acid_183 16 17 15\n",
      "acid_420 24 25 23\n",
      "acid_172 20 21 19\n",
      "acid_267 24 25 23\n",
      "acid_173 24 25 23\n",
      "acid_214 16 17 15\n",
      "acid_337 16 17 15\n",
      "acid_166 24 25 23\n",
      "acid_147 24 25 23\n",
      "acid_238 24 25 23\n",
      "acid_184 24 25 23\n",
      "acid_322 24 25 23\n",
      "acid_421 24 25 23\n",
      "acid_440 24 25 23\n",
      "acid_405 20 21 19\n",
      "acid_368 16 17 15\n",
      "acid_483 16 17 15\n",
      "acid_475 20 21 19\n",
      "acid_82 24 25 23\n",
      "acid_94 24 25 23\n",
      "acid_110 24 25 23\n",
      "acid_258 16 17 15\n",
      "acid_224 16 17 15\n",
      "acid_18 20 21 19\n",
      "acid_415 20 21 19\n",
      "acid_371 24 25 23\n",
      "acid_69 24 25 23\n",
      "acid_463 24 25 23\n",
      "acid_300 24 25 23\n",
      "acid_400 16 17 15\n",
      "acid_335 20 21 19\n",
      "acid_236 24 25 23\n",
      "acid_45 24 25 23\n",
      "acid_229 24 25 23\n",
      "acid_117 16 17 15\n",
      "acid_137 24 25 23\n",
      "acid_181 24 25 23\n",
      "acid_23 20 21 19\n",
      "acid_186 24 25 23\n",
      "acid_51 16 17 15\n",
      "acid_115 24 25 23\n",
      "acid_14 16 17 15\n",
      "acid_479 24 25 23\n",
      "acid_72 24 25 23\n",
      "acid_461 16 17 15\n",
      "acid_434 20 21 19\n",
      "acid_169 24 25 23\n",
      "acid_168 24 25 23\n",
      "acid_165 16 17 15\n",
      "acid_202 24 25 23\n",
      "acid_459 20 21 19\n",
      "acid_178 20 21 19\n",
      "acid_381 20 21 19\n",
      "acid_99 20 21 19\n",
      "acid_348 16 17 15\n",
      "acid_310 24 25 23\n",
      "acid_102 24 25 23\n",
      "acid_264 16 17 15\n",
      "acid_259 20 21 19\n",
      "acid_109 20 21 19\n",
      "acid_435 24 25 23\n",
      "acid_320 24 25 23\n",
      "acid_449 16 17 15\n",
      "acid_317 20 21 19\n",
      "acid_164 24 25 23\n",
      "acid_468 24 25 23\n",
      "acid_230 20 21 19\n",
      "acid_218 16 17 15\n",
      "acid_269 16 17 15\n",
      "acid_467 24 25 23\n",
      "acid_312 16 17 15\n",
      "acid_443 20 21 19\n",
      "acid_174 24 25 23\n",
      "acid_458 20 21 19\n",
      "acid_403 16 17 15\n",
      "acid_393 24 25 23\n",
      "acid_246 20 21 19\n",
      "acid_179 24 25 23\n",
      "acid_201 20 21 19\n",
      "acid_17 20 21 19\n",
      "acid_358 24 25 23\n",
      "acid_338 24 25 23\n",
      "acid_411 24 25 23\n",
      "acid_16 24 25 23\n",
      "acid_28 24 25 23\n",
      "acid_469 24 25 23\n",
      "acid_419 20 21 19\n",
      "acid_277 24 25 23\n",
      "acid_266 24 25 23\n",
      "acid_54 24 25 23\n",
      "acid_42 24 25 23\n",
      "acid_158 24 25 23\n",
      "acid_89 24 25 23\n",
      "acid_289 20 21 19\n",
      "acid_227 24 25 23\n",
      "acid_161 16 17 15\n",
      "acid_290 24 25 23\n",
      "acid_481 24 25 23\n",
      "acid_90 16 17 15\n",
      "acid_427 16 17 15\n",
      "acid_268 20 21 19\n",
      "acid_305 24 25 23\n",
      "acid_407 16 17 15\n",
      "acid_235 24 25 23\n",
      "acid_480 24 25 23\n",
      "acid_241 20 21 19\n",
      "acid_279 24 25 23\n",
      "acid_76 20 21 19\n",
      "acid_239 24 25 23\n",
      "acid_372 20 21 19\n",
      "acid_33 20 21 19\n",
      "acid_237 16 17 15\n",
      "acid_100 24 25 23\n",
      "acid_2 24 25 23\n",
      "acid_485 24 25 23\n",
      "acid_325 24 25 23\n",
      "acid_257 20 21 19\n",
      "acid_240 24 25 23\n",
      "acid_60 20 21 19\n",
      "acid_401 16 17 15\n",
      "acid_98 24 25 23\n",
      "acid_152 24 25 23\n",
      "acid_354 24 25 23\n",
      "acid_160 16 17 15\n",
      "acid_62 24 25 23\n",
      "acid_228 16 17 15\n",
      "acid_456 24 25 23\n",
      "acid_404 20 21 19\n",
      "acid_175 24 25 23\n",
      "acid_319 24 25 23\n",
      "acid_377 24 25 23\n",
      "acid_339 24 25 23\n",
      "acid_67 20 21 19\n",
      "acid_119 24 25 23\n",
      "acid_432 20 21 19\n",
      "acid_86 24 25 23\n",
      "acid_200 20 21 19\n",
      "acid_331 16 17 15\n",
      "acid_66 24 25 23\n",
      "acid_383 16 17 15\n",
      "acid_424 24 25 23\n",
      "acid_5 16 17 15\n",
      "acid_349 24 25 23\n",
      "acid_333 20 21 19\n",
      "acid_48 20 21 19\n",
      "acid_409 16 17 15\n",
      "acid_280 24 25 23\n",
      "acid_75 16 17 15\n",
      "acid_375 24 25 23\n",
      "acid_150 16 17 15\n",
      "acid_359 24 25 23\n",
      "acid_193 20 21 19\n",
      "acid_191 20 21 19\n",
      "acid_47 24 25 23\n",
      "acid_423 16 17 15\n",
      "acid_71 24 25 23\n",
      "acid_402 16 17 15\n",
      "acid_370 24 25 23\n",
      "acid_454 20 21 19\n",
      "acid_334 16 17 15\n",
      "acid_92 24 25 23\n",
      "acid_125 20 21 19\n",
      "acid_81 16 17 15\n",
      "acid_283 24 25 23\n",
      "acid_414 24 25 23\n",
      "acid_343 20 21 19\n",
      "acid_134 16 17 15\n",
      "acid_142 20 21 19\n",
      "acid_29 24 25 23\n",
      "acid_418 24 25 23\n",
      "acid_391 24 25 23\n",
      "acid_43 24 25 23\n",
      "acid_360 24 25 23\n",
      "acid_207 24 25 23\n",
      "acid_378 24 25 23\n",
      "acid_79 24 25 23\n",
      "acid_223 16 17 15\n",
      "acid_291 20 21 19\n",
      "acid_472 20 21 19\n",
      "acid_113 24 25 23\n",
      "acid_321 16 17 15\n",
      "acid_41 20 21 19\n",
      "acid_127 24 25 23\n",
      "acid_195 20 21 19\n",
      "acid_336 24 25 23\n",
      "acid_9 24 25 23\n",
      "acid_243 20 21 19\n",
      "acid_374 16 17 15\n",
      "acid_140 16 17 15\n",
      "acid_350 16 17 15\n",
      "acid_25 16 17 15\n",
      "acid_0 20 21 19\n",
      "acid_251 16 17 15\n",
      "acid_210 24 25 23\n",
      "acid_303 20 21 19\n",
      "acid_145 24 25 23\n",
      "acid_314 16 17 15\n",
      "acid_380 16 17 15\n",
      "acid_308 20 21 19\n",
      "acid_389 24 25 23\n",
      "acid_448 20 21 19\n",
      "acid_103 16 17 15\n",
      "acid_38 24 25 23\n",
      "acid_85 16 17 15\n",
      "acid_297 24 25 23\n",
      "acid_167 24 25 23\n",
      "acid_144 16 17 15\n",
      "acid_249 24 25 23\n",
      "acid_388 20 21 19\n",
      "acid_1 24 25 23\n",
      "acid_395 24 25 23\n",
      "acid_431 16 17 15\n",
      "acid_465 24 25 23\n",
      "acid_32 24 25 23\n",
      "acid_254 24 25 23\n",
      "acid_64 24 25 23\n",
      "acid_482 24 25 23\n",
      "acid_30 20 21 19\n",
      "acid_15 20 21 19\n",
      "acid_410 20 21 19\n",
      "acid_151 16 17 15\n",
      "acid_445 16 17 15\n",
      "acid_323 16 17 15\n",
      "acid_436 24 25 23\n",
      "acid_52 24 25 23\n",
      "acid_19 24 25 23\n",
      "acid_270 24 25 23\n",
      "acid_56 20 21 19\n",
      "acid_26 24 25 23\n",
      "acid_116 20 21 19\n",
      "acid_108 20 21 19\n",
      "acid_296 24 25 23\n",
      "acid_87 20 21 19\n",
      "acid_68 24 25 23\n",
      "acid_34 24 25 23\n",
      "acid_217 24 25 23\n",
      "acid_176 20 21 19\n",
      "acid_250 24 25 23\n",
      "acid_324 24 25 23\n",
      "acid_189 16 17 15\n",
      "acid_441 24 25 23\n",
      "acid_450 20 21 19\n",
      "acid_234 16 17 15\n",
      "acid_101 16 17 15\n",
      "acid_355 20 21 19\n",
      "acid_128 20 21 19\n",
      "acid_384 20 21 19\n",
      "acid_282 20 21 19\n",
      "acid_474 16 17 15\n"
     ]
    }
   ],
   "source": [
    "Desc_map['acid'] = {}\n",
    "for smi in acid_smi_set:\n",
    "    try:\n",
    "        tmp_mol = AllChem.AddHs(Chem.MolFromSmiles(smi))\n",
    "        match_index = smiles_match_idx_map[smi]\n",
    "        element,positions = smiles_ele_pos_map[smi]\n",
    "\n",
    "        sterimol = Sterimol(element,positions,match_index[1]+1,match_index[2]+1)\n",
    "        bv1 = BuriedVolume(element,positions,match_index[3]+1)\n",
    "        bv2 = BuriedVolume(element,positions,match_index[2]+1)\n",
    "        B1_1 = sterimol.B_1_value\n",
    "        B5_1 = sterimol.B_5_value###\n",
    "        L_1 = sterimol.L_value\n",
    "        BV1_1 = bv1.fraction_buried_volume\n",
    "        BV2_1 = bv2.fraction_buried_volume\n",
    "\n",
    "        sterimol = Sterimol(element,positions,match_index[9]+1,match_index[10]+1)\n",
    "        bv1 = BuriedVolume(element,positions,match_index[8]+1)\n",
    "        bv2 = BuriedVolume(element,positions,match_index[10]+1)\n",
    "        B1_2 = sterimol.B_1_value\n",
    "        B5_2 = sterimol.B_5_value\n",
    "        L_2 = sterimol.L_value\n",
    "        BV1_2 = bv1.fraction_buried_volume\n",
    "        BV2_2 = bv2.fraction_buried_volume\n",
    "\n",
    "        atom = tmp_mol.GetAtomWithIdx(match_index[14])  \n",
    "        sterimol = Sterimol(element,positions,match_index[14]+1,match_index[15]+1)\n",
    "        bv1 = BuriedVolume(element,positions,match_index[14]+1)\n",
    "        bv2 = BuriedVolume(element,positions,match_index[15]+1)\n",
    "        B1_3 = sterimol.B_1_value\n",
    "        B5_3 = sterimol.B_5_value\n",
    "        L_3 = sterimol.L_value\n",
    "        BV1_3 = bv1.fraction_buried_volume\n",
    "        BV2_3 = bv2.fraction_buried_volume\n",
    "\n",
    "        atom = tmp_mol.GetAtomWithIdx(match_index[12]) \n",
    "        sterimol = Sterimol(element,positions,match_index[12]+1,match_index[13]+1)\n",
    "        bv1 = BuriedVolume(element,positions,match_index[12]+1)\n",
    "        bv2 = BuriedVolume(element,positions,match_index[13]+1)\n",
    "        B1_4 = sterimol.B_1_value\n",
    "        B5_4 = sterimol.B_5_value\n",
    "        L_4 = sterimol.L_value\n",
    "        BV1_4 = bv1.fraction_buried_volume\n",
    "        BV2_4 = bv2.fraction_buried_volume\n",
    "\n",
    "        Desc_map['acid'][smi] = np.array([B1_1,B5_1,L_1,BV1_1,BV2_1,B1_2,B5_2,L_2,BV1_2,BV2_2,B1_3,B5_3,L_3,BV1_3,BV2_3,B1_4,B5_4,L_4,BV1_4,BV2_4])\n",
    "\n",
    "        print(fn_smiles_map[smi],match_index[1]+1,match_index[2]+1,match_index[3]+1)\n",
    "    except:\n",
    "        print(smi)"
   ]
  },
  {
   "cell_type": "code",
   "execution_count": 22,
   "id": "31d66074",
   "metadata": {
    "ExecuteTime": {
     "end_time": "2023-02-22T14:51:53.397221Z",
     "start_time": "2023-02-22T14:51:53.017853Z"
    }
   },
   "outputs": [],
   "source": [
    "smiles_fmo_map={}\n",
    "for f in glob.glob('./data/xyz_data/*'):\n",
    "    smiles_fmo_map[smiles_fn_map[f.split('/')[-1]]]=read_FOMO(f+'/LOG')"
   ]
  },
  {
   "cell_type": "code",
   "execution_count": 23,
   "id": "117e4833",
   "metadata": {
    "ExecuteTime": {
     "end_time": "2023-02-22T14:51:55.097915Z",
     "start_time": "2023-02-22T14:51:54.889885Z"
    }
   },
   "outputs": [],
   "source": [
    "smiles_charge_map={}\n",
    "for f in glob.glob('./data/xyz_data/*'):\n",
    "    smiles_charge_map[smiles_fn_map[f.split('/')[-1]]]=read_charge(f+'/charges')\n",
    "for smi in smiles_charge_map:\n",
    "    match_index = smiles_match_idx_map[smi]\n",
    "    smiles_charge_map[smi] = smiles_charge_map[smi][match_index]  "
   ]
  },
  {
   "cell_type": "code",
   "execution_count": 24,
   "id": "760bad04",
   "metadata": {
    "ExecuteTime": {
     "end_time": "2023-02-22T14:51:56.722982Z",
     "start_time": "2023-02-22T14:51:56.720713Z"
    }
   },
   "outputs": [],
   "source": [
    "def sorted_match(index1,index2):\n",
    "    sort_list=sorted([match_index[index1],match_index[index2]])\n",
    "    return sort_list[0],sort_list[1]"
   ]
  },
  {
   "cell_type": "code",
   "execution_count": 46,
   "id": "617db030",
   "metadata": {
    "ExecuteTime": {
     "end_time": "2023-02-23T02:17:58.524853Z",
     "start_time": "2023-02-23T02:17:57.930946Z"
    },
    "scrolled": true
   },
   "outputs": [
    {
     "name": "stdout",
     "output_type": "stream",
     "text": [
      "(2, 3)\n",
      "(1, 6)\n",
      "(7, 8)\n",
      "(10, 15)\n",
      "(3, 4)\n",
      "(10, 15)\n",
      "(2, 3)\n",
      "(1, 11)\n",
      "(1, 15)\n",
      "(2, 3)\n",
      "(12, 15)\n",
      "(2, 3)\n",
      "(7, 12)\n"
     ]
    }
   ],
   "source": [
    "smiles_all_wbo_map={}\n",
    "for f in glob.glob('./data/xyz_data/*'):\n",
    "    smiles_all_wbo_map[smiles_fn_map[f.split('/')[-1]]]=gen_bond_wbo_map(f+'/wbo')\n",
    "    \n",
    "smiles_wbo_map = {}\n",
    "\n",
    "smiles_wbo_map['sub'] = {}\n",
    "for smi in sub_smi_set:\n",
    "    match_index = smiles_match_idx_map[smi]\n",
    "    all_wbo = smiles_all_wbo_map[smi]\n",
    "    tmp_mol = AllChem.AddHs(Chem.MolFromSmiles(smi))\n",
    "    atom = tmp_mol.GetAtomWithIdx(match_index[0])\n",
    "    index2=list(set([x.GetIdx() for x in atom.GetNeighbors()])-set(list([match_index[1]])+list([match_index[4]])))\n",
    "    try:\n",
    "        wbo = [all_wbo[(match_index[0],index2[0])],all_wbo[sorted_match(0,4)],\n",
    "                        all_wbo[sorted_match(4,3)],all_wbo[sorted_match(3,2)],\n",
    "                        all_wbo[sorted_match(2,1)],all_wbo[sorted_match(1,0)],\n",
    "                        all_wbo[sorted_match(3,5)],all_wbo[sorted_match(5,6)],\n",
    "                        all_wbo[sorted_match(6,7)],all_wbo[sorted_match(7,8)],\n",
    "                        all_wbo[sorted_match(8,2)]]\n",
    "        print(sorted_match(8,2))\n",
    "        smiles_wbo_map['sub'][smi] = wbo\n",
    "    except:\n",
    "        wbo = [all_wbo[(index2[0],match_index[0])],all_wbo[match_index[0],match_index[4]],\n",
    "                        all_wbo[match_index[3],match_index[4]],all_wbo[match_index[3],match_index[2]],\n",
    "                        all_wbo[match_index[2],match_index[1]],all_wbo[match_index[1],match_index[0]],\n",
    "                        all_wbo[match_index[5],match_index[3]],all_wbo[match_index[6],match_index[5]],\n",
    "                        all_wbo[match_index[7],match_index[6]],all_wbo[match_index[8],match_index[7]],\n",
    "                        all_wbo[match_index[8],match_index[2]]]     \n",
    "        print(sorted_match(8,2))\n",
    "        smiles_wbo_map['sub'][smi] = wbo\n",
    "        continue\n",
    "\n",
    "    \n",
    "    \n",
    "smiles_wbo_map['alk'] = {}\n",
    "for smi in alk_smi_set:\n",
    "    match_index = smiles_match_idx_map[smi]\n",
    "    all_wbo = smiles_all_wbo_map[smi]\n",
    "    tmp_mol = AllChem.AddHs(Chem.MolFromSmiles(smi))\n",
    "\n",
    "    wbo =  [all_wbo[sorted_match(0,1)]]#,all_wbo[sorted_match(0,2)],all_wbo[sorted_match(0,3)],all_wbo[sorted_match(1,4)],all_wbo[sorted_match(1,5)\n",
    "    smiles_wbo_map['alk'][smi] = wbo\n",
    "            \n",
    "            \n",
    "smiles_wbo_map['acid'] = {}\n",
    "for smi in acid_smi_set:\n",
    "    match_index = smiles_match_idx_map[smi]\n",
    "    all_wbo = smiles_all_wbo_map[smi]\n",
    "    tmp_mol = AllChem.AddHs(Chem.MolFromSmiles(smi))\n",
    "    atom = tmp_mol.GetAtomWithIdx(match_index[6])\n",
    "    index2=list(set([x.GetIdx() for x in atom.GetNeighbors()])-set(list([match_index[5]])))\n",
    "    wbo =  [all_wbo[sorted_match(4,3)],all_wbo[sorted_match(3,14)],\n",
    "            all_wbo[sorted_match(14,12)],all_wbo[sorted_match(12,8)],\n",
    "            all_wbo[sorted_match(8,4)],all_wbo[sorted_match(4,5)],\n",
    "            all_wbo[sorted_match(5,6)],all_wbo[sorted_match(5,7)],       \n",
    "            all_wbo[sorted_match(3,1)],all_wbo[sorted_match(1,2)],\n",
    "            all_wbo[sorted_match(8,9)],all_wbo[sorted_match(9,10)],\n",
    "            all_wbo[sorted_match(1,0)],all_wbo[sorted_match(9,11)],\n",
    "            all_wbo[sorted_match(14,15)],all_wbo[sorted_match(12,13)],\n",
    "            all_wbo[(match_index[6],index2[0])]]\n",
    "    smiles_wbo_map['acid'][smi] = wbo "
   ]
  },
  {
   "cell_type": "code",
   "execution_count": 48,
   "id": "5ed94348",
   "metadata": {
    "ExecuteTime": {
     "end_time": "2023-02-23T02:18:02.393319Z",
     "start_time": "2023-02-23T02:18:02.390848Z"
    }
   },
   "outputs": [],
   "source": [
    "smiles_bond_length_map={}"
   ]
  },
  {
   "cell_type": "code",
   "execution_count": 49,
   "id": "e8616c2b",
   "metadata": {
    "ExecuteTime": {
     "end_time": "2023-02-23T02:18:04.265400Z",
     "start_time": "2023-02-23T02:18:04.076484Z"
    }
   },
   "outputs": [],
   "source": [
    "smiles_bond_length_map['alk'] = {}\n",
    "smiles_bond_length_map['acid'] = {}\n",
    "smiles_bond_length_map['sub'] = {}\n",
    "for f in glob.glob('./data/xyz_data/*'):    \n",
    "    smi=smiles_fn_map[f.split('/')[-1]]\n",
    "    if smi in alk_smi_set:\n",
    "        smiles_bond_length_map['alk'][smi]=gen_alk_bond_length_map(f,smi,smiles_match_idx_map)\n",
    "    if smi in acid_smi_set:  \n",
    "        smiles_bond_length_map['acid'][smi]=gen_acid_bond_length_map(f,smi,smiles_match_idx_map)\n",
    "    if smi in sub_smi_set:\n",
    "        smiles_bond_length_map['sub'][smi]=gen_sub_bond_length_map(f,smi,smiles_match_idx_map)"
   ]
  },
  {
   "cell_type": "code",
   "execution_count": 50,
   "id": "fb57ae41",
   "metadata": {
    "ExecuteTime": {
     "end_time": "2023-02-23T02:18:05.958488Z",
     "start_time": "2023-02-23T02:18:05.948604Z"
    }
   },
   "outputs": [],
   "source": [
    "all_num=69+360\n",
    "sub_bv_sterimol_desc = maxminscale(np.array([Desc_map['sub'][smi] for smi in sub_smi]))\n",
    "acid_bv_sterimol_desc = maxminscale(np.array([Desc_map['acid'][smi] for smi in acid_smi]))\n",
    "\n",
    "alk_fmo_desc = maxminscale(np.array([smiles_fmo_map[smi] for smi in alk_smi]))\n",
    "\n",
    "sub_chrg_desc = maxminscale(np.array([smiles_charge_map[smi] for smi in sub_smi]))\n",
    "alk_chrg_desc = maxminscale(np.array([smiles_charge_map[smi] for smi in alk_smi]))\n",
    "acid_chrg_desc = maxminscale(np.array([smiles_charge_map[smi] for smi in acid_smi]))\n",
    "\n",
    "sub_wbo_desc = maxminscale(np.array([smiles_wbo_map['sub'][smi] for smi in sub_smi])).reshape(all_num,-1)\n",
    "acid_wbo_desc = maxminscale(np.array([smiles_wbo_map['acid'][smi] for smi in acid_smi])).reshape(all_num,-1)\n",
    "alk_wbo_desc = maxminscale(np.array([smiles_wbo_map['alk'][smi] for smi in alk_smi])).reshape(all_num,-1)\n",
    "\n",
    "alk_bond_length_desc = maxminscale(np.array([smiles_bond_length_map['alk'][smi] for smi in alk_smi])).reshape(all_num,-1)\n",
    "acid_bond_length_desc = maxminscale(np.array([smiles_bond_length_map['acid'][smi] for smi in acid_smi])).reshape(all_num,-1)\n",
    "sub_bond_length_desc = maxminscale(np.array([smiles_bond_length_map['sub'][smi] for smi in sub_smi])).reshape(all_num,-1)\n",
    "\n",
    "des=np.concatenate([sub_bv_sterimol_desc,sub_chrg_desc,sub_wbo_desc,sub_bond_length_desc,\n",
    "                    alk_fmo_desc,alk_chrg_desc,alk_wbo_desc,alk_bond_length_desc,\n",
    "                    acid_bv_sterimol_desc,acid_chrg_desc,acid_wbo_desc,acid_bond_length_desc,tem],axis=1)#alk_fmo_desc"
   ]
  },
  {
   "cell_type": "markdown",
   "id": "c251e601",
   "metadata": {
    "ExecuteTime": {
     "end_time": "2022-07-27T02:05:42.301846Z",
     "start_time": "2022-07-27T02:05:42.299633Z"
    }
   },
   "source": [
    "# Apply reported data to new reactions  directly"
   ]
  },
  {
   "cell_type": "code",
   "execution_count": 51,
   "id": "ac4de5c9",
   "metadata": {
    "ExecuteTime": {
     "end_time": "2023-02-23T02:19:04.747179Z",
     "start_time": "2023-02-23T02:19:04.725149Z"
    },
    "scrolled": true
   },
   "outputs": [],
   "source": [
    "sel_index1=np.array([2,12,17,21,25,28,34,37,39,40,41,42,43,50,53,57,65,73,74,75,76,83,86,89,94,97,107])\n",
    "des_sel1=des[:,sel_index1]\n",
    "sel_index2=sel_index1\n",
    "des_sel2=des[:,sel_index2]\n",
    "\n",
    "train_index=list(range(59))\n",
    "test_index=list(range(59,69))\n",
    "\n",
    "train_x,train_y = des_sel1[train_index],ddg[train_index]\n",
    "test_x,test_y = des_sel1[test_index],ddg[test_index]\n",
    "model = LinearSVR()\n",
    "\n",
    "all_pred=[]\n",
    "for i in range(10):\n",
    "    model.fit(train_x,train_y)\n",
    "    pred =model.predict(test_x)\n",
    "    all_pred.append(pred)\n",
    "all_pred=np.mean(np.array(all_pred),axis=0)"
   ]
  },
  {
   "cell_type": "code",
   "execution_count": 52,
   "id": "0f018bf0",
   "metadata": {
    "ExecuteTime": {
     "end_time": "2023-02-23T02:19:07.041524Z",
     "start_time": "2023-02-23T02:19:06.881236Z"
    }
   },
   "outputs": [
    {
     "data": {
      "text/plain": [
       "Text(0.8500000000000001, 1.4, 'MAE: 0.189')"
      ]
     },
     "execution_count": 52,
     "metadata": {},
     "output_type": "execute_result"
    },
    {
     "data": {
      "image/png": "[encoded data removed]",
      "text/plain": [
       "<Figure size 500x500 with 1 Axes>"
      ]
     },
     "metadata": {},
     "output_type": "display_data"
    }
   ],
   "source": [
    "start_point=0.8\n",
    "end_point=1.6\n",
    "fig = plt.figure(figsize=(5,5))\n",
    "plt.xticks(np.arange(start_point, end_point+0.1, step=0.2),fontsize=14)\n",
    "plt.yticks(np.arange(start_point, end_point+0.1, step=0.2),fontsize=14)\n",
    "plt.xlabel('$\\Delta$$\\Delta$$G_E$$_x$$_p$ (kcal/mol)',fontsize=15)\n",
    "plt.ylabel('$\\Delta$$\\Delta$$G_M$$_L$ (kcal/mol)',fontsize=15)\n",
    "plt.plot([start_point,end_point],[start_point,end_point],c='skyblue',linewidth=4)#skyblue\n",
    "plt.scatter(np.array(test_y),np.array(all_pred),c='steelblue',s=50, alpha=1)#steelblue\n",
    "plt.text(start_point+0.05,1.5,'Pearson R: %.3f'%pearsonr(np.array(test_y),np.array(all_pred))[0],fontsize=15)\n",
    "plt.text(start_point+0.05,1.4,'MAE: %.3f'%mean_absolute_error(np.array(test_y),np.array(all_pred)),fontsize=15)"
   ]
  },
  {
   "cell_type": "markdown",
   "id": "912061bf",
   "metadata": {},
   "source": [
    "# Apply reported data to new 10 reactions with delta learning"
   ]
  },
  {
   "cell_type": "code",
   "execution_count": 93,
   "id": "5aa37b83",
   "metadata": {
    "ExecuteTime": {
     "end_time": "2023-03-03T09:18:33.856583Z",
     "start_time": "2023-03-03T09:18:33.671031Z"
    }
   },
   "outputs": [
    {
     "name": "stdout",
     "output_type": "stream",
     "text": [
      "[59]\n",
      "[60]\n",
      "[61]\n",
      "[62]\n",
      "[63]\n",
      "[64]\n",
      "[65]\n",
      "[66]\n",
      "[67]\n",
      "[68]\n"
     ]
    },
    {
     "data": {
      "text/plain": [
       "Text(0.8500000000000001, 1.4, 'MAE: 0.060')"
      ]
     },
     "execution_count": 93,
     "metadata": {},
     "output_type": "execute_result"
    },
    {
     "data": {
      "image/png": "[encoded data removed]",
      "text/plain": [
       "<Figure size 500x500 with 1 Axes>"
      ]
     },
     "metadata": {},
     "output_type": "display_data"
    }
   ],
   "source": [
    "sel_index2=[53, 95, 106, 63, 71, 2, 19, 12, 8, 37, 40, 33, 10, 29, 34, 1, 107, 11, 28, 32, 5, 31, 35, 9, 24, 84, 50, 62, 98, 75, 74, 87, 47, 66, 89]\n",
    "des_sel2=des[:,sel_index2]\n",
    "delta=test_y-all_pred\n",
    "\n",
    "all_acid_add=[]\n",
    "all_acid_test=[]\n",
    "for i in range(10):\n",
    "    all_acid_add.append(list(set(list(range(10)))-set([i])))\n",
    "    all_acid_test.append(i)\n",
    "    \n",
    "pred_value=[]\n",
    "exp_value=[]\n",
    "for j in range(10):\n",
    "    tem_add=list(np.array(acid_index)[all_acid_add[j]]) \n",
    "    tem_test=[np.array(acid_index)[all_acid_test[j]]]\n",
    "    print(tem_test)\n",
    "    tem_val_x,tem_test_x = des_sel2[tem_add],des_sel2[tem_test]\n",
    "    tem_val_y,tem_test_y= delta[all_acid_add[j]],delta[all_acid_test[j]]\n",
    "\n",
    "    model = LinearSVR()\n",
    "    tem_delta_pred=[]\n",
    "    for i in range(20):\n",
    "        model.fit(tem_val_x,tem_val_y)\n",
    "        pred =model.predict(tem_test_x)\n",
    "        #val_pred_delta.append(model.predict(val_x))\n",
    "        tem_delta_pred.append(pred)\n",
    "    tem_delta_pred=np.mean(np.array(tem_delta_pred),axis=0)    \n",
    "    pred_value+=list(tem_delta_pred)\n",
    "    exp_value.append(tem_test_y)\n",
    "pred=pred_value+all_pred\n",
    "start_point=0.8\n",
    "end_point=1.6\n",
    "fig = plt.figure(figsize=(5,5))\n",
    "plt.xticks(np.arange(start_point, end_point+0.1, step=0.2),fontsize=14)\n",
    "plt.yticks(np.arange(start_point, end_point+0.1, step=0.2),fontsize=14)\n",
    "plt.xlabel('$\\Delta$$\\Delta$$G_E$$_x$$_p$ (kcal/mol)',fontsize=15)\n",
    "plt.ylabel('$\\Delta$$\\Delta$$G_M$$_L$ (kcal/mol)',fontsize=15)\n",
    "plt.plot([start_point,end_point],[start_point,end_point],c='skyblue',linewidth=4)#skyblue\n",
    "plt.scatter(np.array(test_y),np.array(pred),c='steelblue',s=50, alpha=1)#steelblue\n",
    "plt.text(start_point+0.05,1.5,'Pearson R: %.3f'%pearsonr(np.array(test_y),np.array(pred))[0],fontsize=15)\n",
    "plt.text(start_point+0.05,1.4,'MAE: %.3f'%mean_absolute_error(np.array(test_y),np.array(pred)),fontsize=15)"
   ]
  }
 ],
 "metadata": {
  "kernelspec": {
   "display_name": "Python 3 (ipykernel)",
   "language": "python",
   "name": "python3"
  },
  "language_info": {
   "codemirror_mode": {
    "name": "ipython",
    "version": 3
   },
   "file_extension": ".py",
   "mimetype": "text/x-python",
   "name": "python",
   "nbconvert_exporter": "python",
   "pygments_lexer": "ipython3",
   "version": "3.8.5"
  },
  "toc": {
   "base_numbering": 1,
   "nav_menu": {},
   "number_sections": true,
   "sideBar": true,
   "skip_h1_title": false,
   "title_cell": "Table of Contents",
   "title_sidebar": "Contents",
   "toc_cell": false,
   "toc_position": {
    "height": "calc(100% - 180px)",
    "left": "10px",
    "top": "150px",
    "width": "354.938px"
   },
   "toc_section_display": true,
   "toc_window_display": true
  },
  "varInspector": {
   "cols": {
    "lenName": 16,
    "lenType": 16,
    "lenVar": 40
   },
   "kernels_config": {
    "python": {
     "delete_cmd_postfix": "",
     "delete_cmd_prefix": "del ",
     "library": "var_list.py",
     "varRefreshCmd": "print(var_dic_list())"
    },
    "r": {
     "delete_cmd_postfix": ") ",
     "delete_cmd_prefix": "rm(",
     "library": "var_list.r",
     "varRefreshCmd": "cat(var_dic_list()) "
    }
   },
   "types_to_exclude": [
    "module",
    "function",
    "builtin_function_or_method",
    "instance",
    "_Feature"
   ],
   "window_display": false
  }
 },
 "nbformat": 4,
 "nbformat_minor": 5
}
