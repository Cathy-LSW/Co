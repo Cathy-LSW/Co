{
 "cells": [
  {
   "cell_type": "markdown",
   "id": "8cb0118c",
   "metadata": {},
   "source": [
    "# Load Dependencies"
   ]
  },
  {
   "cell_type": "code",
   "execution_count": 1,
   "id": "5f67b836",
   "metadata": {
    "ExecuteTime": {
     "end_time": "2022-09-26T14:02:20.289787Z",
     "start_time": "2022-09-26T14:02:19.460056Z"
    }
   },
   "outputs": [],
   "source": [
    "import pandas as pd\n",
    "import numpy as np\n",
    "from rdkit import Chem\n",
    "from rdkit.Chem import AllChem\n",
    "import xgboost as xgb\n",
    "from sklearn import linear_model\n",
    "from sklearn import tree\n",
    "from sklearn.kernel_ridge import KernelRidge\n",
    "from sklearn.svm import SVR, LinearSVR\n",
    "from sklearn.neighbors import KNeighborsRegressor\n",
    "from sklearn.ensemble import RandomForestRegressor,ExtraTreesRegressor,GradientBoostingRegressor,BaggingRegressor\n",
    "from sklearn.metrics import mean_absolute_error,r2_score\n",
    "from script.ddG2ee import get_ddG2ee\n",
    "from sklearn.model_selection import KFold\n",
    "from scipy.stats import pearsonr\n",
    "import seaborn as sns\n",
    "import matplotlib.pyplot as plt"
   ]
  },
  {
   "cell_type": "code",
   "execution_count": 2,
   "id": "73176873",
   "metadata": {
    "ExecuteTime": {
     "end_time": "2022-09-26T14:02:22.538069Z",
     "start_time": "2022-09-26T14:02:22.531851Z"
    }
   },
   "outputs": [],
   "source": [
    "des=np.load('./data/des.npy')\n",
    "ddg=np.load('./data/ddg.npy')\n",
    "acid_index=np.load('./data/acid_index.npy')\n",
    "sub_smi=np.load('./data/sub_smi.npy')\n",
    "alk_smi=np.load('./data/alk_smi.npy')\n",
    "acid_smi=np.load('./data/acid_smi.npy')"
   ]
  },
  {
   "cell_type": "markdown",
   "id": "c00ae44d",
   "metadata": {},
   "source": [
    "# Model Selection"
   ]
  },
  {
   "cell_type": "code",
   "execution_count": 3,
   "id": "2fe419d6",
   "metadata": {
    "ExecuteTime": {
     "end_time": "2022-09-26T14:02:26.018793Z",
     "start_time": "2022-09-26T14:02:26.013899Z"
    }
   },
   "outputs": [],
   "source": [
    "models = [BaggingRegressor(n_jobs=60),\n",
    "          tree.DecisionTreeRegressor(),ExtraTreesRegressor(n_jobs=60),GradientBoostingRegressor(),\n",
    "          KNeighborsRegressor(),KernelRidge(),\n",
    "          LinearSVR(),RandomForestRegressor(n_jobs=60),\n",
    "          linear_model.Ridge(alpha=.5),SVR(), xgb.XGBRegressor(n_jobs=60)]#AdaBoostRegressor(ExtraTreesRegressor(n_jobs=60)),\n",
    "model_names = ['BG','DT','ET','GB','KNR','KRR','LSVR','RF','Ridge','SVR','XGB']#'Ada',\n",
    "descs = [des]\n",
    "desc_names = ['CD']"
   ]
  },
  {
   "cell_type": "code",
   "execution_count": 6,
   "id": "e0115933",
   "metadata": {
    "ExecuteTime": {
     "end_time": "2022-09-26T14:04:42.131446Z",
     "start_time": "2022-09-26T14:04:00.729679Z"
    }
   },
   "outputs": [
    {
     "name": "stdout",
     "output_type": "stream",
     "text": [
      "Model:    BG, Descriptor:              CD: R2: 0.7061, MAE: 0.1949, Pearson R: 0.8431\n",
      "Model:    DT, Descriptor:              CD: R2: 0.5646, MAE: 0.2354, Pearson R: 0.7852\n",
      "Model:    ET, Descriptor:              CD: R2: 0.7270, MAE: 0.1793, Pearson R: 0.8558\n",
      "Model:    GB, Descriptor:              CD: R2: 0.6934, MAE: 0.1991, Pearson R: 0.8393\n",
      "Model:   KNR, Descriptor:              CD: R2: 0.6087, MAE: 0.2292, Pearson R: 0.7806\n",
      "Model:   KRR, Descriptor:              CD: R2: 0.7077, MAE: 0.1955, Pearson R: 0.8420\n",
      "Model:  LSVR, Descriptor:              CD: R2: 0.7061, MAE: 0.2033, Pearson R: 0.8498\n",
      "Model:    RF, Descriptor:              CD: R2: 0.7343, MAE: 0.1836, Pearson R: 0.8582\n",
      "Model: Ridge, Descriptor:              CD: R2: 0.7117, MAE: 0.1954, Pearson R: 0.8444\n",
      "Model:   SVR, Descriptor:              CD: R2: 0.6804, MAE: 0.2144, Pearson R: 0.8313\n",
      "Model:   XGB, Descriptor:              CD: R2: 0.6622, MAE: 0.2078, Pearson R: 0.8253\n"
     ]
    }
   ],
   "source": [
    "kfold = KFold(n_splits=10,shuffle=True)\n",
    "performance_dict = {}\n",
    "train_index=list(set(list(range(69))))\n",
    "for desc,desc_name in zip(descs,desc_names): \n",
    "    desc=desc[train_index]\n",
    "    ee_=ddg[train_index]\n",
    "    for model,model_name in zip(models,model_names):\n",
    "        all_r2 = []\n",
    "        all_pearsr = []\n",
    "        all_mae = []\n",
    "        repeat_pred = []\n",
    "        repeat_test = []\n",
    "        for i in range(10):\n",
    "            all_pred = []\n",
    "            all_test = []\n",
    "            for train_index_tep,test_index_tep in kfold.split(desc):\n",
    "                train_x,test_x = desc[train_index_tep],desc[test_index_tep]\n",
    "                train_y,test_y = ee_[train_index_tep],ee_[test_index_tep]\n",
    "                model.fit(train_x,train_y)\n",
    "                test_pred = model.predict(test_x)\n",
    "                all_pred.append(test_pred)\n",
    "                all_test.append(test_y)\n",
    "            all_pred = np.concatenate(all_pred)\n",
    "            all_test = np.concatenate(all_test)\n",
    "            repeat_pred.append(all_pred)\n",
    "            repeat_test.append(all_test)\n",
    "            r2 = r2_score(all_test,all_pred)\n",
    "            pearsr = pearsonr(all_test,all_pred)\n",
    "            mae = mean_absolute_error(all_test,all_pred)\n",
    "            all_r2.append(r2)\n",
    "            all_pearsr.append(pearsr[0])\n",
    "            all_mae.append(mae)\n",
    "        performance_dict['%s-%s'%(model_name,desc_name)] = [np.mean(all_r2),np.mean(all_mae),np.mean(all_pearsr),\n",
    "                                                            repeat_pred[np.argmax(all_r2)],repeat_test[np.argmax(all_r2)]]\n",
    "        print('Model: %5s, Descriptor: %15s: R2: %.4f, MAE: %.4f, Pearson R: %.4f'%(\n",
    "        model_name,desc_name,np.mean(all_r2),np.mean(all_mae),np.mean(all_pearsr)))"
   ]
  },
  {
   "cell_type": "markdown",
   "id": "9d3bb3bd",
   "metadata": {},
   "source": [
    "## Pearson R"
   ]
  },
  {
   "cell_type": "code",
   "execution_count": 7,
   "id": "2e1ae5d7",
   "metadata": {
    "ExecuteTime": {
     "end_time": "2022-09-26T14:04:51.080134Z",
     "start_time": "2022-09-26T14:04:50.903992Z"
    }
   },
   "outputs": [
    {
     "data": {
      "text/plain": [
       "<AxesSubplot:>"
      ]
     },
     "execution_count": 7,
     "metadata": {},
     "output_type": "execute_result"
    },
    {
     "data": {
      "image/png": "[encoded data removed]",
      "text/plain": [
       "<Figure size 1440x72 with 2 Axes>"
      ]
     },
     "metadata": {
      "needs_background": "light"
     },
     "output_type": "display_data"
    }
   ],
   "source": [
    "r2_map = np.zeros((len(desc_names),len(model_names)))\n",
    "for i,m in enumerate(model_names):\n",
    "    for j,d in enumerate(desc_names):\n",
    "        r2_map[j,i] = performance_dict['%s-%s'%(m,d)][2]\n",
    "\n",
    "fig = plt.figure(figsize=(20,1))\n",
    "sns.heatmap(r2_map,annot=True,fmt='.3g',xticklabels=model_names,yticklabels=desc_names,cmap='GnBu')"
   ]
  },
  {
   "cell_type": "markdown",
   "id": "8e382549",
   "metadata": {},
   "source": [
    "## MAE"
   ]
  },
  {
   "cell_type": "code",
   "execution_count": 8,
   "id": "b24f2c83",
   "metadata": {
    "ExecuteTime": {
     "end_time": "2022-09-26T14:05:27.064555Z",
     "start_time": "2022-09-26T14:05:26.958436Z"
    }
   },
   "outputs": [
    {
     "data": {
      "text/plain": [
       "<AxesSubplot:>"
      ]
     },
     "execution_count": 8,
     "metadata": {},
     "output_type": "execute_result"
    },
    {
     "data": {
      "image/png": "[encoded data removed]",
      "text/plain": [
       "<Figure size 1440x72 with 2 Axes>"
      ]
     },
     "metadata": {
      "needs_background": "light"
     },
     "output_type": "display_data"
    }
   ],
   "source": [
    "r2_map = np.zeros((len(desc_names),len(model_names)))\n",
    "for i,m in enumerate(model_names):\n",
    "    for j,d in enumerate(desc_names):\n",
    "        r2_map[j,i] = performance_dict['%s-%s'%(m,d)][1]\n",
    "\n",
    "fig = plt.figure(figsize=(20,1))\n",
    "sns.heatmap(r2_map,annot=True,fmt='.3g',xticklabels=model_names,yticklabels=desc_names,cmap='GnBu')"
   ]
  },
  {
   "cell_type": "markdown",
   "id": "c94226fa",
   "metadata": {},
   "source": [
    "## Best Results"
   ]
  },
  {
   "cell_type": "code",
   "execution_count": 11,
   "id": "cdb70cb2",
   "metadata": {
    "ExecuteTime": {
     "end_time": "2022-09-26T14:07:13.730246Z",
     "start_time": "2022-09-26T14:07:13.645743Z"
    }
   },
   "outputs": [
    {
     "data": {
      "text/plain": [
       "Text(0.1, 1.6, 'MAE: 0.175')"
      ]
     },
     "execution_count": 11,
     "metadata": {},
     "output_type": "execute_result"
    },
    {
     "data": {
      "image/png": "[encoded data removed]",
      "text/plain": [
       "<Figure size 360x360 with 1 Axes>"
      ]
     },
     "metadata": {
      "needs_background": "light"
     },
     "output_type": "display_data"
    }
   ],
   "source": [
    "model = 'RF-CD'\n",
    "train_y = performance_dict[model][4]\n",
    "train_p = performance_dict[model][3]\n",
    "\n",
    "fig = plt.figure(figsize=(5,5))\n",
    "plt.xticks(np.arange(0, 2.1, step=0.5),fontsize=14)\n",
    "plt.yticks(np.arange(0, 2.1, step=0.5),fontsize=14)\n",
    "plt.xlabel('$\\Delta$$\\Delta$$G_E$$_x$$_p$ (kcal/mol)',fontsize=15)\n",
    "plt.ylabel('$\\Delta$$\\Delta$$G_M$$_L$ (kcal/mol)',fontsize=15)\n",
    "plt.plot([0,2],[0,2],c='skyblue',linewidth=4)\n",
    "plt.scatter(np.array(train_y),np.array(train_p),c='steelblue',s=50, alpha=0.9)\n",
    "plt.text(0.1,1.8,'Pearson R: %.3f'%performance_dict[model][2],fontsize=15)\n",
    "#plt.text(2,90,'$R^2$: %.3f'%(r2_score(np.array(train_y)*100,np.array(train_p)*100)),fontsize=15)\n",
    "plt.text(0.1,1.6,'MAE: %.3f'%mean_absolute_error(np.array(train_y),np.array(train_p)),fontsize=15)"
   ]
  },
  {
   "cell_type": "code",
   "execution_count": 12,
   "id": "bf426216",
   "metadata": {
    "ExecuteTime": {
     "end_time": "2022-09-26T14:07:32.797450Z",
     "start_time": "2022-09-26T14:07:32.794073Z"
    }
   },
   "outputs": [],
   "source": [
    "np.save('./data/direct_performance_dict.npy',performance_dict)"
   ]
  },
  {
   "cell_type": "markdown",
   "id": "d3887328",
   "metadata": {},
   "source": [
    "# Descriptor Selection"
   ]
  },
  {
   "cell_type": "code",
   "execution_count": 29,
   "id": "1c8f202a",
   "metadata": {
    "ExecuteTime": {
     "end_time": "2022-09-26T15:23:24.957145Z",
     "start_time": "2022-09-26T15:23:23.259027Z"
    }
   },
   "outputs": [],
   "source": [
    "kfold = KFold(n_splits=10,shuffle=True)\n",
    "sel_index=[40, 92, 57, 35, 18, 12, 52, 104, 45, 62, 101, 43, 20, 49, 22, 74, 15, 82, 100, 21, 44, 93, 37, 25, 102]\n",
    "des_sel=des[:,sel_index]\n",
    "train_index=list(set(list(range(0,69))))\n",
    "des_k=des_sel[train_index]\n",
    "ddg_k=ddg[train_index]\n",
    "\n",
    "model=RandomForestRegressor(n_jobs=60)\n",
    "for i in range(1):\n",
    "    all_pred = []\n",
    "    all_test = []\n",
    "    for train_index_tep,test_index_tep in kfold.split(des_k):\n",
    "        train_x,test_x = des_k[train_index_tep],des_k[test_index_tep]\n",
    "        train_y,test_y = ddg_k[train_index_tep],ddg_k[test_index_tep]\n",
    "        model.fit(train_x,train_y)\n",
    "        test_pred = model.predict(test_x)\n",
    "        all_pred.append(test_pred)\n",
    "        all_test.append(test_y)\n",
    "    all_pred = np.concatenate(all_pred)\n",
    "    all_test = np.concatenate(all_test)"
   ]
  },
  {
   "cell_type": "code",
   "execution_count": 33,
   "id": "b535dd14",
   "metadata": {
    "ExecuteTime": {
     "end_time": "2022-09-26T15:23:34.488573Z",
     "start_time": "2022-09-26T15:23:34.317973Z"
    }
   },
   "outputs": [
    {
     "data": {
      "text/plain": [
       "Text(0.1, 1.6, 'MAE: 0.187')"
      ]
     },
     "execution_count": 33,
     "metadata": {},
     "output_type": "execute_result"
    },
    {
     "data": {
      "image/png": "[encoded data removed]",
      "text/plain": [
       "<Figure size 360x360 with 1 Axes>"
      ]
     },
     "metadata": {
      "needs_background": "light"
     },
     "output_type": "display_data"
    }
   ],
   "source": [
    "fig = plt.figure(figsize=(5,5))\n",
    "plt.xticks(np.arange(0, 2.1, step=0.5),fontsize=14)\n",
    "plt.yticks(np.arange(0, 2.1, step=0.5),fontsize=14)\n",
    "plt.xlabel('$\\Delta$$\\Delta$$G_E$$_x$$_p$ (kcal/mol)',fontsize=15)\n",
    "plt.ylabel('$\\Delta$$\\Delta$$G_M$$_L$ (kcal/mol)',fontsize=15)\n",
    "plt.plot([0,2],[0,2],c='skyblue',linewidth=4)\n",
    "plt.scatter(np.array(all_test),np.array(all_pred),c='steelblue',s=50, alpha=0.9)\n",
    "plt.text(0.1,1.8,'Pearson R: %.3f'%pearsonr(all_test,all_pred)[0],fontsize=15)\n",
    "#plt.text(2,90,'$R^2$: %.3f'%(r2_score(np.array(train_y)*100,np.array(all_pred)*100)),fontsize=15)\n",
    "plt.text(0.1,1.6,'MAE: %.3f'%mean_absolute_error(np.array(all_test),np.array(all_pred)),fontsize=15)"
   ]
  },
  {
   "cell_type": "code",
   "execution_count": 31,
   "id": "32c08aea",
   "metadata": {
    "ExecuteTime": {
     "end_time": "2022-09-26T15:23:31.791897Z",
     "start_time": "2022-09-26T15:23:31.773848Z"
    }
   },
   "outputs": [],
   "source": [
    "np.save('./data/69_all_pred.npy',all_pred)\n",
    "np.save('./data/69_all_test.npy',all_test)"
   ]
  },
  {
   "cell_type": "markdown",
   "id": "e2ba3957",
   "metadata": {},
   "source": [
    "# Predict Enantioselectivity of 360 Acids"
   ]
  },
  {
   "cell_type": "code",
   "execution_count": 36,
   "id": "b1fae16a",
   "metadata": {
    "ExecuteTime": {
     "end_time": "2022-09-28T12:14:57.670103Z",
     "start_time": "2022-09-28T12:14:55.021740Z"
    },
    "scrolled": true
   },
   "outputs": [],
   "source": [
    "all_num=69+360\n",
    "train_index=list(set(list(range(69))))\n",
    "test_index=list(set(list(range(69,all_num))))\n",
    "model = ExtraTreesRegressor(n_jobs=60)\n",
    "train_x,test_x1 = des_sel[train_index],des_sel[test_index]\n",
    "train_y= ddg[train_index]\n",
    "\n",
    "all_pred_test=[]\n",
    "pred_test13=[]\n",
    "for i in range(20):\n",
    "    model.fit(train_x,train_y)\n",
    "    pred_test=model.predict(test_x1)\n",
    "    all_pred_test.append(pred_test)\n",
    "    #pred_test13.append(model.predict(val_x))\n",
    "all_pred_test=np.mean(np.array(all_pred_test),axis=0)\n"
   ]
  },
  {
   "cell_type": "code",
   "execution_count": 37,
   "id": "95346158",
   "metadata": {
    "ExecuteTime": {
     "end_time": "2022-09-28T12:14:58.930942Z",
     "start_time": "2022-09-28T12:14:58.912518Z"
    }
   },
   "outputs": [],
   "source": [
    "saa_cat=np.concatenate((np.array(sub_smi[69:all_num]).reshape(-1,1),\n",
    "                        np.array(alk_smi[69:all_num]).reshape(-1,1),\n",
    "                        np.array(acid_smi[69:all_num]).reshape(-1,1)),axis=1)\n",
    "result_455=pd.DataFrame(saa_cat,columns=['sub','alk','acids'],dtype=str)\n",
    "result_455['ddg']=all_pred_test\n",
    "\n",
    "t_ee=result_455['ddg'].to_list()\n",
    "acid=np.array(result_455['acids'].to_list())\n",
    "ee_rank=sorted(t_ee,reverse=True)\n",
    "index=[]\n",
    "for tem_ee in ee_rank:\n",
    "    for tem_index,j in enumerate(t_ee):\n",
    "        if tem_ee==j:\n",
    "            index.append(tem_index)\n",
    "acid_rank=acid[index]"
   ]
  },
  {
   "cell_type": "markdown",
   "id": "8387dc28",
   "metadata": {},
   "source": [
    "# New Rank of Top3"
   ]
  },
  {
   "cell_type": "code",
   "execution_count": 39,
   "id": "88d77097",
   "metadata": {
    "ExecuteTime": {
     "end_time": "2022-09-28T12:15:20.551488Z",
     "start_time": "2022-09-28T12:15:19.904882Z"
    }
   },
   "outputs": [
    {
     "name": "stdout",
     "output_type": "stream",
     "text": [
      "O=C(C1=CC=CO1)N2C(C(O)=O)N(C(C3=CC=CO3)=O)[C@@H](C4=CC=CC=C4)[C@@H]2C5=CC=CC=C5 132 1.2851884289855744 0.7945296184395728\n",
      "O=C(C1=COC=C1)N2C(C(O)=O)N(C(C3=COC=C3)=O)[C@@H](C4=CC=CC=C4)[C@@H]2C5=CC=CC=C5 77 1.3316462398285556 0.8085298292865927\n",
      "O=C(C1=CC=C(OC)C=C1)N2C(C(O)=O)N(C(C3=CC=C(OC)C=C3)=O)[C@@H](C4=CC=CC=C4)[C@@H]2C5=CC=CC=C5 5 1.4884204507049246 0.8496664068595129\n"
     ]
    }
   ],
   "source": [
    "top3_smi=['O=C(C1=CC=CO1)N2C(C(O)=O)N(C(C3=CC=CO3)=O)[C@@H](C4=CC=CC=C4)[C@@H]2C5=CC=CC=C5',\n",
    "'O=C(C1=COC=C1)N2C(C(O)=O)N(C(C3=COC=C3)=O)[C@@H](C4=CC=CC=C4)[C@@H]2C5=CC=CC=C5',\n",
    "'O=C(C1=CC=C(OC)C=C1)N2C(C(O)=O)N(C(C3=CC=C(OC)C=C3)=O)[C@@H](C4=CC=CC=C4)[C@@H]2C5=CC=CC=C5']\n",
    "\n",
    "for i in top3_smi:\n",
    "    for index,j in enumerate(acid_rank):\n",
    "        if Chem.MolToSmiles(Chem.MolFromSmiles(i))==Chem.MolToSmiles(Chem.MolFromSmiles(j)):\n",
    "            print(i,index,ee_rank[index],get_ddG2ee(np.array(ee_rank[index])))"
   ]
  }
 ],
 "metadata": {
  "kernelspec": {
   "display_name": "Python 3 (ipykernel)",
   "language": "python",
   "name": "python3"
  },
  "language_info": {
   "codemirror_mode": {
    "name": "ipython",
    "version": 3
   },
   "file_extension": ".py",
   "mimetype": "text/x-python",
   "name": "python",
   "nbconvert_exporter": "python",
   "pygments_lexer": "ipython3",
   "version": "3.8.5"
  },
  "toc": {
   "base_numbering": 1,
   "nav_menu": {},
   "number_sections": true,
   "sideBar": true,
   "skip_h1_title": false,
   "title_cell": "Table of Contents",
   "title_sidebar": "Contents",
   "toc_cell": false,
   "toc_position": {
    "height": "calc(100% - 180px)",
    "left": "10px",
    "top": "150px",
    "width": "175.938px"
   },
   "toc_section_display": true,
   "toc_window_display": true
  },
  "varInspector": {
   "cols": {
    "lenName": 16,
    "lenType": 16,
    "lenVar": 40
   },
   "kernels_config": {
    "python": {
     "delete_cmd_postfix": "",
     "delete_cmd_prefix": "del ",
     "library": "var_list.py",
     "varRefreshCmd": "print(var_dic_list())"
    },
    "r": {
     "delete_cmd_postfix": ") ",
     "delete_cmd_prefix": "rm(",
     "library": "var_list.r",
     "varRefreshCmd": "cat(var_dic_list()) "
    }
   },
   "types_to_exclude": [
    "module",
    "function",
    "builtin_function_or_method",
    "instance",
    "_Feature"
   ],
   "window_display": false
  }
 },
 "nbformat": 4,
 "nbformat_minor": 5
}
