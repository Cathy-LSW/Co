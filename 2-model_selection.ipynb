{
 "cells": [
  {
   "cell_type": "markdown",
   "id": "92ef3b09",
   "metadata": {},
   "source": [
    "# Load Dependencies"
   ]
  },
  {
   "cell_type": "code",
   "execution_count": 1,
   "id": "16e2ff53",
   "metadata": {
    "ExecuteTime": {
     "end_time": "2022-09-26T13:45:03.219924Z",
     "start_time": "2022-09-26T13:45:02.448396Z"
    }
   },
   "outputs": [],
   "source": [
    "import xgboost as xgb\n",
    "from sklearn import linear_model\n",
    "from sklearn import tree\n",
    "from sklearn.kernel_ridge import KernelRidge\n",
    "from sklearn.svm import SVR, LinearSVR\n",
    "from sklearn.neighbors import KNeighborsRegressor\n",
    "from sklearn.ensemble import RandomForestRegressor,ExtraTreesRegressor,GradientBoostingRegressor,BaggingRegressor\n",
    "from sklearn.metrics import mean_absolute_error,r2_score\n",
    "from scipy.stats import pearsonr\n",
    "import seaborn as sns\n",
    "import matplotlib.pyplot as plt"
   ]
  },
  {
   "cell_type": "code",
   "execution_count": 2,
   "id": "20a8d6de",
   "metadata": {
    "ExecuteTime": {
     "end_time": "2022-09-26T13:45:03.249533Z",
     "start_time": "2022-09-26T13:45:03.246843Z"
    }
   },
   "outputs": [],
   "source": [
    "des=np.load('./data/des.npy')\n",
    "ddg=np.load('./data/ddg.npy')"
   ]
  },
  {
   "cell_type": "markdown",
   "id": "f33c2325",
   "metadata": {},
   "source": [
    "# Models"
   ]
  },
  {
   "cell_type": "code",
   "execution_count": 3,
   "id": "7ff1d699",
   "metadata": {
    "ExecuteTime": {
     "end_time": "2022-09-26T13:45:03.877717Z",
     "start_time": "2022-09-26T13:45:03.873323Z"
    }
   },
   "outputs": [],
   "source": [
    "models = [BaggingRegressor(n_jobs=60),\n",
    "          tree.DecisionTreeRegressor(),ExtraTreesRegressor(n_jobs=60),GradientBoostingRegressor(),\n",
    "          KNeighborsRegressor(),KernelRidge(),\n",
    "          LinearSVR(),RandomForestRegressor(n_jobs=60),\n",
    "          linear_model.Ridge(alpha=.5),SVR(), xgb.XGBRegressor(n_jobs=60)]\n",
    "model_names = ['BG','DT','ET','GB','KNR','KRR','LSVR','RF','Ridge','SVR','XGB']\n",
    "descs = [des]\n",
    "desc_names = ['CD']"
   ]
  },
  {
   "cell_type": "markdown",
   "id": "420372fa",
   "metadata": {
    "ExecuteTime": {
     "end_time": "2022-09-26T13:39:33.232954Z",
     "start_time": "2022-09-26T13:39:33.216902Z"
    }
   },
   "source": [
    "# Train"
   ]
  },
  {
   "cell_type": "code",
   "execution_count": 4,
   "id": "690ee10d",
   "metadata": {
    "ExecuteTime": {
     "end_time": "2022-09-26T13:45:46.016871Z",
     "start_time": "2022-09-26T13:45:05.612198Z"
    },
    "scrolled": true
   },
   "outputs": [
    {
     "name": "stdout",
     "output_type": "stream",
     "text": [
      "Model:    BG, Descriptor:              CD: R2: 0.6168, MAE: 0.2145, Pearson R: 0.7912\n",
      "Model:    DT, Descriptor:              CD: R2: 0.3387, MAE: 0.2679, Pearson R: 0.6649\n",
      "Model:    ET, Descriptor:              CD: R2: 0.6147, MAE: 0.2076, Pearson R: 0.7897\n",
      "Model:    GB, Descriptor:              CD: R2: 0.6642, MAE: 0.2118, Pearson R: 0.8190\n",
      "Model:   KNR, Descriptor:              CD: R2: 0.6032, MAE: 0.2351, Pearson R: 0.7772\n",
      "Model:   KRR, Descriptor:              CD: R2: 0.6946, MAE: 0.2051, Pearson R: 0.8342\n",
      "Model:  LSVR, Descriptor:              CD: R2: 0.6919, MAE: 0.2070, Pearson R: 0.8413\n",
      "Model:    RF, Descriptor:              CD: R2: 0.6554, MAE: 0.2033, Pearson R: 0.8118\n",
      "Model: Ridge, Descriptor:              CD: R2: 0.6909, MAE: 0.2089, Pearson R: 0.8326\n",
      "Model:   SVR, Descriptor:              CD: R2: 0.6647, MAE: 0.2217, Pearson R: 0.8215\n",
      "Model:   XGB, Descriptor:              CD: R2: 0.5633, MAE: 0.2275, Pearson R: 0.7703\n"
     ]
    }
   ],
   "source": [
    "import warnings\n",
    "warnings.filterwarnings('ignore')\n",
    "from sklearn.model_selection import KFold\n",
    "from scipy.stats import pearsonr\n",
    "kfold = KFold(n_splits=10,shuffle=True)\n",
    "performance_dict = {}\n",
    "train_index=list(set(list(range(59))))\n",
    "for desc,desc_name in zip(descs,desc_names): \n",
    "    desc=desc[train_index]\n",
    "    ee_=ddg[train_index]\n",
    "    for model,model_name in zip(models,model_names):\n",
    "        all_r2 = []\n",
    "        all_pearsr = []\n",
    "        all_mae = []\n",
    "        repeat_pred = []\n",
    "        repeat_test = []\n",
    "        for i in range(10):\n",
    "            all_pred = []\n",
    "            all_test = []\n",
    "            for train_index_tep,test_index_tep in kfold.split(desc):\n",
    "                train_x,test_x = desc[train_index_tep],desc[test_index_tep]\n",
    "                train_y,test_y = ee_[train_index_tep],ee_[test_index_tep]\n",
    "                model.fit(train_x,train_y)\n",
    "                test_pred = model.predict(test_x)\n",
    "                all_pred.append(test_pred)\n",
    "                all_test.append(test_y)\n",
    "            all_pred = np.concatenate(all_pred)\n",
    "            all_test = np.concatenate(all_test)\n",
    "            repeat_pred.append(all_pred)\n",
    "            repeat_test.append(all_test)\n",
    "            r2 = r2_score(all_test,all_pred)\n",
    "            pearsr = pearsonr(all_test,all_pred)\n",
    "            mae = mean_absolute_error(all_test,all_pred)\n",
    "            all_r2.append(r2)\n",
    "            all_pearsr.append(pearsr[0])\n",
    "            all_mae.append(mae)\n",
    "        performance_dict['%s-%s'%(model_name,desc_name)] = [np.mean(all_r2),np.mean(all_mae),np.mean(all_pearsr),\n",
    "                                                            repeat_pred[np.argmax(all_r2)],repeat_test[np.argmax(all_r2)]]\n",
    "        print('Model: %5s, Descriptor: %15s: R2: %.4f, MAE: %.4f, Pearson R: %.4f'%(\n",
    "        model_name,desc_name,np.mean(all_r2),np.mean(all_mae),np.mean(all_pearsr)))"
   ]
  },
  {
   "cell_type": "markdown",
   "id": "9f9bf26f",
   "metadata": {},
   "source": [
    "# Results"
   ]
  },
  {
   "cell_type": "markdown",
   "id": "b4098fc4",
   "metadata": {},
   "source": [
    "## Pearson R"
   ]
  },
  {
   "cell_type": "code",
   "execution_count": 5,
   "id": "41b06991",
   "metadata": {
    "ExecuteTime": {
     "end_time": "2022-09-26T13:45:46.380932Z",
     "start_time": "2022-09-26T13:45:46.277876Z"
    }
   },
   "outputs": [
    {
     "data": {
      "text/plain": [
       "<AxesSubplot:>"
      ]
     },
     "execution_count": 5,
     "metadata": {},
     "output_type": "execute_result"
    },
    {
     "data": {
      "image/png": "[encoded data removed]",
      "text/plain": [
       "<Figure size 1440x72 with 2 Axes>"
      ]
     },
     "metadata": {
      "needs_background": "light"
     },
     "output_type": "display_data"
    }
   ],
   "source": [
    "r2_map = np.zeros((len(desc_names),len(model_names)))\n",
    "for i,m in enumerate(model_names):\n",
    "    for j,d in enumerate(desc_names):\n",
    "        r2_map[j,i] = performance_dict['%s-%s'%(m,d)][2]\n",
    "\n",
    "fig = plt.figure(figsize=(20,1))\n",
    "sns.heatmap(r2_map,annot=True,fmt='.3f',xticklabels=model_names,yticklabels=desc_names,cmap='GnBu')"
   ]
  },
  {
   "cell_type": "markdown",
   "id": "a9cc5b4d",
   "metadata": {},
   "source": [
    "## MAE"
   ]
  },
  {
   "cell_type": "code",
   "execution_count": 6,
   "id": "7fe5e894",
   "metadata": {
    "ExecuteTime": {
     "end_time": "2022-09-26T13:45:46.734018Z",
     "start_time": "2022-09-26T13:45:46.640188Z"
    }
   },
   "outputs": [
    {
     "data": {
      "text/plain": [
       "<AxesSubplot:>"
      ]
     },
     "execution_count": 6,
     "metadata": {},
     "output_type": "execute_result"
    },
    {
     "data": {
      "image/png": "[encoded data removed]",
      "text/plain": [
       "<Figure size 1440x72 with 2 Axes>"
      ]
     },
     "metadata": {
      "needs_background": "light"
     },
     "output_type": "display_data"
    }
   ],
   "source": [
    "r2_map = np.zeros((len(desc_names),len(model_names)))\n",
    "for i,m in enumerate(model_names):\n",
    "    for j,d in enumerate(desc_names):\n",
    "        r2_map[j,i] = performance_dict['%s-%s'%(m,d)][1]\n",
    "\n",
    "fig = plt.figure(figsize=(20,1))\n",
    "sns.heatmap(r2_map,annot=True,fmt='.3f',xticklabels=model_names,yticklabels=desc_names,cmap='GnBu')"
   ]
  },
  {
   "cell_type": "markdown",
   "id": "6afcc785",
   "metadata": {},
   "source": [
    "## Best Results"
   ]
  },
  {
   "cell_type": "code",
   "execution_count": 7,
   "id": "56f5330a",
   "metadata": {
    "ExecuteTime": {
     "end_time": "2022-09-26T13:45:47.250763Z",
     "start_time": "2022-09-26T13:45:46.997603Z"
    }
   },
   "outputs": [
    {
     "data": {
      "text/plain": [
       "Text(0.1, 1.6, 'MAE: 0.196')"
      ]
     },
     "execution_count": 7,
     "metadata": {},
     "output_type": "execute_result"
    },
    {
     "data": {
      "image/png": "[encoded data removed]",
      "text/plain": [
       "<Figure size 360x360 with 1 Axes>"
      ]
     },
     "metadata": {
      "needs_background": "light"
     },
     "output_type": "display_data"
    }
   ],
   "source": [
    "model = 'LSVR-CD'\n",
    "train_y = performance_dict[model][4]\n",
    "train_p = performance_dict[model][3]\n",
    "\n",
    "\n",
    "import matplotlib.pyplot as plt\n",
    "fig = plt.figure(figsize=(5,5))\n",
    "plt.xticks(np.arange(0, 2.1, step=0.5),fontsize=14)\n",
    "plt.yticks(np.arange(0, 2.1, step=0.5),fontsize=14)\n",
    "plt.xlabel('$\\Delta$$\\Delta$$G_E$$_x$$_p$ (kcal/mol)',fontsize=15)\n",
    "plt.ylabel('$\\Delta$$\\Delta$$G_M$$_L$ (kcal/mol)',fontsize=15)\n",
    "plt.plot([0,2],[0,2],c='skyblue',linewidth=4)\n",
    "plt.scatter(np.array(train_y),np.array(train_p),c='steelblue',s=50, alpha=0.9)\n",
    "plt.text(0.1,1.8,'Pearson R: %.3f'%performance_dict[model][2],fontsize=15)\n",
    "plt.text(0.1,1.6,'MAE: %.3f'%mean_absolute_error(np.array(train_y),np.array(train_p)),fontsize=15)\n"
   ]
  },
  {
   "cell_type": "code",
   "execution_count": 8,
   "id": "08ae5710",
   "metadata": {
    "ExecuteTime": {
     "end_time": "2022-09-26T13:45:47.504650Z",
     "start_time": "2022-09-26T13:45:47.502518Z"
    }
   },
   "outputs": [],
   "source": [
    "np.save('./data/kt_performance_dict.npy',performance_dict)"
   ]
  }
 ],
 "metadata": {
  "kernelspec": {
   "display_name": "Python 3 (ipykernel)",
   "language": "python",
   "name": "python3"
  },
  "language_info": {
   "codemirror_mode": {
    "name": "ipython",
    "version": 3
   },
   "file_extension": ".py",
   "mimetype": "text/x-python",
   "name": "python",
   "nbconvert_exporter": "python",
   "pygments_lexer": "ipython3",
   "version": "3.8.5"
  },
  "toc": {
   "base_numbering": 1,
   "nav_menu": {},
   "number_sections": true,
   "sideBar": true,
   "skip_h1_title": false,
   "title_cell": "Table of Contents",
   "title_sidebar": "Contents",
   "toc_cell": false,
   "toc_position": {
    "height": "calc(100% - 180px)",
    "left": "10px",
    "top": "150px",
    "width": "175.938px"
   },
   "toc_section_display": true,
   "toc_window_display": true
  },
  "varInspector": {
   "cols": {
    "lenName": 16,
    "lenType": 16,
    "lenVar": 40
   },
   "kernels_config": {
    "python": {
     "delete_cmd_postfix": "",
     "delete_cmd_prefix": "del ",
     "library": "var_list.py",
     "varRefreshCmd": "print(var_dic_list())"
    },
    "r": {
     "delete_cmd_postfix": ") ",
     "delete_cmd_prefix": "rm(",
     "library": "var_list.r",
     "varRefreshCmd": "cat(var_dic_list()) "
    }
   },
   "types_to_exclude": [
    "module",
    "function",
    "builtin_function_or_method",
    "instance",
    "_Feature"
   ],
   "window_display": false
  }
 },
 "nbformat": 4,
 "nbformat_minor": 5
}
